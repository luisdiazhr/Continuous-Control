{
 "cells": [
  {
   "cell_type": "markdown",
   "metadata": {},
   "source": [
    "# Continuous Control\n",
    "\n",
    "---\n",
    "\n",
    "You are welcome to use this coding environment to train your agent for the project.  Follow the instructions below to get started!\n",
    "\n",
    "### 1. Start the Environment\n",
    "\n",
    "Run the next code cell to install a few packages.  This line will take a few minutes to run!"
   ]
  },
  {
   "cell_type": "code",
   "execution_count": 1,
   "metadata": {},
   "outputs": [],
   "source": [
    "!pip -q install ./python"
   ]
  },
  {
   "cell_type": "markdown",
   "metadata": {},
   "source": [
    "The environments corresponding to both versions of the environment are already saved in the Workspace and can be accessed at the file paths provided below.  \n",
    "\n",
    "Please select one of the two options below for loading the environment."
   ]
  },
  {
   "cell_type": "code",
   "execution_count": 2,
   "metadata": {},
   "outputs": [
    {
     "name": "stderr",
     "output_type": "stream",
     "text": [
      "INFO:unityagents:\n",
      "'Academy' started successfully!\n",
      "Unity Academy name: Academy\n",
      "        Number of Brains: 1\n",
      "        Number of External Brains : 1\n",
      "        Lesson number : 0\n",
      "        Reset Parameters :\n",
      "\t\tgoal_speed -> 1.0\n",
      "\t\tgoal_size -> 5.0\n",
      "Unity brain name: ReacherBrain\n",
      "        Number of Visual Observations (per agent): 0\n",
      "        Vector Observation space type: continuous\n",
      "        Vector Observation space size (per agent): 33\n",
      "        Number of stacked Vector Observation: 1\n",
      "        Vector Action space type: continuous\n",
      "        Vector Action space size (per agent): 4\n",
      "        Vector Action descriptions: , , , \n"
     ]
    }
   ],
   "source": [
    "from unityagents import UnityEnvironment\n",
    "import numpy as np\n",
    "from ddpg_agent import Agent\n",
    "\n",
    "# select this option to load version 1 (with a single agent) of the environment\n",
    "#env = UnityEnvironment(file_name='/data/Reacher_One_Linux_NoVis/Reacher_One_Linux_NoVis.x86_64')\n",
    "\n",
    "# select this option to load version 2 (with 20 agents) of the environment\n",
    "env = UnityEnvironment(file_name='/data/Reacher_Linux_NoVis/Reacher.x86_64')"
   ]
  },
  {
   "cell_type": "markdown",
   "metadata": {},
   "source": [
    "Environments contain **_brains_** which are responsible for deciding the actions of their associated agents. Here we check for the first brain available, and set it as the default brain we will be controlling from Python."
   ]
  },
  {
   "cell_type": "code",
   "execution_count": 3,
   "metadata": {},
   "outputs": [],
   "source": [
    "# get the default brain\n",
    "brain_name = env.brain_names[0]\n",
    "brain = env.brains[brain_name]"
   ]
  },
  {
   "cell_type": "markdown",
   "metadata": {},
   "source": [
    "### 2. Examine the State and Action Spaces\n",
    "\n",
    "Run the code cell below to print some information about the environment."
   ]
  },
  {
   "cell_type": "code",
   "execution_count": 4,
   "metadata": {},
   "outputs": [
    {
     "name": "stdout",
     "output_type": "stream",
     "text": [
      "Number of agents: 20\n",
      "Size of each action: 4\n",
      "There are 20 agents. Each observes a state with length: 33\n",
      "The state for the first agent looks like: [  0.00000000e+00  -4.00000000e+00   0.00000000e+00   1.00000000e+00\n",
      "  -0.00000000e+00  -0.00000000e+00  -4.37113883e-08   0.00000000e+00\n",
      "   0.00000000e+00   0.00000000e+00   0.00000000e+00   0.00000000e+00\n",
      "   0.00000000e+00   0.00000000e+00  -1.00000000e+01   0.00000000e+00\n",
      "   1.00000000e+00  -0.00000000e+00  -0.00000000e+00  -4.37113883e-08\n",
      "   0.00000000e+00   0.00000000e+00   0.00000000e+00   0.00000000e+00\n",
      "   0.00000000e+00   0.00000000e+00   5.75471878e+00  -1.00000000e+00\n",
      "   5.55726624e+00   0.00000000e+00   1.00000000e+00   0.00000000e+00\n",
      "  -1.68164849e-01]\n"
     ]
    }
   ],
   "source": [
    "# reset the environment\n",
    "env_info = env.reset(train_mode=True)[brain_name]\n",
    "\n",
    "# number of agents\n",
    "num_agents = len(env_info.agents)\n",
    "print('Number of agents:', num_agents)\n",
    "\n",
    "# size of each action\n",
    "action_size = brain.vector_action_space_size\n",
    "print('Size of each action:', action_size)\n",
    "\n",
    "# examine the state space \n",
    "states = env_info.vector_observations\n",
    "state_size = states.shape[1]\n",
    "print('There are {} agents. Each observes a state with length: {}'.format(states.shape[0], state_size))\n",
    "print('The state for the first agent looks like:', states[0])"
   ]
  },
  {
   "cell_type": "markdown",
   "metadata": {},
   "source": [
    "### 3. Take Random Actions in the Environment\n",
    "\n",
    "In the next code cell, you will learn how to use the Python API to control the agent and receive feedback from the environment.\n",
    "\n",
    "Note that **in this coding environment, you will not be able to watch the agents while they are training**, and you should set `train_mode=True` to restart the environment."
   ]
  },
  {
   "cell_type": "code",
   "execution_count": null,
   "metadata": {},
   "outputs": [],
   "source": [
    "env_info = env.reset(train_mode=False)[brain_name]      # reset the environment    \n",
    "states = env_info.vector_observations                  # get the current state (for each agent)\n",
    "scores = np.zeros(num_agents)                          # initialize the score (for each agent)\n",
    "while True:\n",
    "    actions = np.random.randn(num_agents, action_size) # select an action (for each agent)\n",
    "    actions = np.clip(actions, -1, 1)                  # all actions between -1 and 1\n",
    "    env_info = env.step(actions)[brain_name]           # send all actions to tne environment\n",
    "    next_states = env_info.vector_observations         # get next state (for each agent)\n",
    "    rewards = env_info.rewards                         # get reward (for each agent)\n",
    "    dones = env_info.local_done                        # see if episode finished\n",
    "    scores += env_info.rewards                         # update the score (for each agent)\n",
    "    states = next_states                               # roll over states to next time step\n",
    "    if np.any(dones):                                  # exit loop if episode finished\n",
    "        break\n",
    "print('Total score (averaged over agents) this episode: {}'.format(np.mean(scores)))"
   ]
  },
  {
   "cell_type": "markdown",
   "metadata": {},
   "source": [
    "When finished, you can close the environment."
   ]
  },
  {
   "cell_type": "code",
   "execution_count": null,
   "metadata": {},
   "outputs": [],
   "source": [
    "#env.close()"
   ]
  },
  {
   "cell_type": "markdown",
   "metadata": {},
   "source": [
    "### 4. It's Your Turn!\n",
    "\n",
    "Now it's your turn to train your own agent to solve the environment!  A few **important notes**:\n",
    "- When training the environment, set `train_mode=True`, so that the line for resetting the environment looks like the following:\n",
    "```python\n",
    "env_info = env.reset(train_mode=True)[brain_name]\n",
    "```\n",
    "- To structure your work, you're welcome to work directly in this Jupyter notebook, or you might like to start over with a new file!  You can see the list of files in the workspace by clicking on **_Jupyter_** in the top left corner of the notebook.\n",
    "- In this coding environment, you will not be able to watch the agents while they are training.  However, **_after training the agents_**, you can download the saved model weights to watch the agents on your own machine! "
   ]
  },
  {
   "cell_type": "code",
   "execution_count": 5,
   "metadata": {},
   "outputs": [],
   "source": [
    "from collections import deque\n",
    "import random\n",
    "import torch\n",
    "import matplotlib.pyplot as plt\n",
    "%matplotlib inline"
   ]
  },
  {
   "cell_type": "code",
   "execution_count": 6,
   "metadata": {},
   "outputs": [
    {
     "name": "stdout",
     "output_type": "stream",
     "text": [
      "Actor(\n",
      "  (fc1): Linear(in_features=33, out_features=512, bias=True)\n",
      "  (fc2): Linear(in_features=512, out_features=512, bias=True)\n",
      "  (fc3): Linear(in_features=512, out_features=512, bias=True)\n",
      "  (fc4): Linear(in_features=512, out_features=4, bias=True)\n",
      ")\n",
      "Critic(\n",
      "  (fcs1): Linear(in_features=33, out_features=512, bias=True)\n",
      "  (fc2): Linear(in_features=516, out_features=512, bias=True)\n",
      "  (fc3): Linear(in_features=512, out_features=512, bias=True)\n",
      "  (fc4): Linear(in_features=512, out_features=1, bias=True)\n",
      ")\n"
     ]
    }
   ],
   "source": [
    "agent = Agent(state_size=state_size, action_size=action_size, random_seed=0)\n",
    "print(agent.actor_local)\n",
    "print(agent.critic_local)"
   ]
  },
  {
   "cell_type": "code",
   "execution_count": null,
   "metadata": {},
   "outputs": [
    {
     "name": "stdout",
     "output_type": "stream",
     "text": [
      "Episode 1\tAverage Score: 0.01\n",
      "Episode 1\tAverage Score: 0.01\n",
      "Episode 2\tAverage Score: 0.06\n",
      "Episode 2\tAverage Score: 0.03\n",
      "Episode 3\tAverage Score: 0.32\n",
      "Episode 3\tAverage Score: 0.13\n",
      "Episode 4\tAverage Score: 0.25\n",
      "Episode 4\tAverage Score: 0.16\n",
      "Episode 5\tAverage Score: 0.09\n",
      "Episode 5\tAverage Score: 0.14\n",
      "Episode 6\tAverage Score: 0.03\n",
      "Episode 6\tAverage Score: 0.13\n",
      "Episode 7\tAverage Score: 0.12\n",
      "Episode 7\tAverage Score: 0.13\n",
      "Episode 8\tAverage Score: 0.08\n",
      "Episode 8\tAverage Score: 0.12\n",
      "Episode 9\tAverage Score: 0.11\n",
      "Episode 9\tAverage Score: 0.12\n",
      "Episode 10\tAverage Score: 0.20\n",
      "Episode 10\tAverage Score: 0.13\n",
      "Episode 11\tAverage Score: 0.23\n",
      "Episode 11\tAverage Score: 0.14\n",
      "Episode 12\tAverage Score: 0.35\n",
      "Episode 12\tAverage Score: 0.15\n",
      "Episode 13\tAverage Score: 0.54\n",
      "Episode 13\tAverage Score: 0.18\n",
      "Episode 14\tAverage Score: 0.70\n",
      "Episode 14\tAverage Score: 0.22\n",
      "Episode 15\tAverage Score: 0.63\n",
      "Episode 15\tAverage Score: 0.25\n",
      "Episode 16\tAverage Score: 0.44\n",
      "Episode 16\tAverage Score: 0.26\n",
      "Episode 17\tAverage Score: 1.24\n",
      "Episode 17\tAverage Score: 0.32\n",
      "Episode 18\tAverage Score: 1.34\n",
      "Episode 18\tAverage Score: 0.37\n",
      "Episode 19\tAverage Score: 1.18\n",
      "Episode 19\tAverage Score: 0.42\n",
      "Episode 20\tAverage Score: 2.37\n",
      "Episode 20\tAverage Score: 0.51\n",
      "Episode 21\tAverage Score: 2.38\n",
      "Episode 21\tAverage Score: 0.60\n",
      "Episode 22\tAverage Score: 2.84\n",
      "Episode 22\tAverage Score: 0.71\n",
      "Episode 23\tAverage Score: 2.89\n",
      "Episode 23\tAverage Score: 0.80\n",
      "Episode 24\tAverage Score: 3.27\n",
      "Episode 24\tAverage Score: 0.90\n",
      "Episode 25\tAverage Score: 3.29\n",
      "Episode 25\tAverage Score: 1.00\n",
      "Episode 26\tAverage Score: 3.51\n",
      "Episode 26\tAverage Score: 1.10\n",
      "Episode 27\tAverage Score: 3.60\n",
      "Episode 27\tAverage Score: 1.19\n",
      "Episode 28\tAverage Score: 3.78\n",
      "Episode 28\tAverage Score: 1.28\n",
      "Episode 29\tAverage Score: 3.89\n",
      "Episode 29\tAverage Score: 1.37\n",
      "Episode 30\tAverage Score: 4.51\n",
      "Episode 30\tAverage Score: 1.48\n",
      "Episode 31\tAverage Score: 4.61\n",
      "Episode 31\tAverage Score: 1.58\n",
      "Episode 32\tAverage Score: 4.02\n",
      "Episode 32\tAverage Score: 1.65\n",
      "Episode 33\tAverage Score: 3.84\n",
      "Episode 33\tAverage Score: 1.72\n",
      "Episode 34\tAverage Score: 5.22\n",
      "Episode 34\tAverage Score: 1.82\n",
      "Episode 35\tAverage Score: 4.66\n",
      "Episode 35\tAverage Score: 1.90\n",
      "Episode 36\tAverage Score: 4.44\n",
      "Episode 36\tAverage Score: 1.97\n",
      "Episode 37\tAverage Score: 4.62\n",
      "Episode 37\tAverage Score: 2.05\n",
      "Episode 38\tAverage Score: 4.93\n",
      "Episode 38\tAverage Score: 2.12\n",
      "Episode 39\tAverage Score: 5.26\n",
      "Episode 39\tAverage Score: 2.20\n",
      "Episode 40\tAverage Score: 5.04\n",
      "Episode 40\tAverage Score: 2.27\n",
      "Episode 41\tAverage Score: 5.38\n",
      "Episode 41\tAverage Score: 2.35\n",
      "Episode 42\tAverage Score: 5.58\n",
      "Episode 42\tAverage Score: 2.43\n",
      "Episode 43\tAverage Score: 7.63\n",
      "Episode 43\tAverage Score: 2.55\n",
      "Episode 44\tAverage Score: 6.02\n",
      "Episode 44\tAverage Score: 2.63\n",
      "Episode 45\tAverage Score: 7.28\n",
      "Episode 45\tAverage Score: 2.73\n",
      "Episode 46\tAverage Score: 6.61\n",
      "Episode 46\tAverage Score: 2.81\n",
      "Episode 47\tAverage Score: 7.16\n",
      "Episode 47\tAverage Score: 2.91\n",
      "Episode 48\tAverage Score: 7.27\n",
      "Episode 48\tAverage Score: 3.00\n",
      "Episode 49\tAverage Score: 6.17\n",
      "Episode 49\tAverage Score: 3.06\n",
      "Episode 50\tAverage Score: 5.31\n",
      "Episode 50\tAverage Score: 3.11\n",
      "Episode 51\tAverage Score: 6.88\n",
      "Episode 51\tAverage Score: 3.18\n",
      "Episode 52\tAverage Score: 7.74\n",
      "Episode 52\tAverage Score: 3.27\n",
      "Episode 53\tAverage Score: 6.50\n",
      "Episode 53\tAverage Score: 3.33\n",
      "Episode 54\tAverage Score: 6.96\n",
      "Episode 54\tAverage Score: 3.40\n",
      "Episode 55\tAverage Score: 7.10\n",
      "Episode 55\tAverage Score: 3.46\n",
      "Episode 56\tAverage Score: 7.00\n",
      "Episode 56\tAverage Score: 3.53\n",
      "Episode 57\tAverage Score: 6.43\n",
      "Episode 57\tAverage Score: 3.58\n",
      "Episode 58\tAverage Score: 7.44\n",
      "Episode 58\tAverage Score: 3.64\n",
      "Episode 59\tAverage Score: 6.07\n",
      "Episode 59\tAverage Score: 3.69\n",
      "Episode 60\tAverage Score: 7.16\n",
      "Episode 60\tAverage Score: 3.74\n",
      "Episode 61\tAverage Score: 6.52\n",
      "Episode 61\tAverage Score: 3.79\n",
      "Episode 62\tAverage Score: 6.65\n",
      "Episode 62\tAverage Score: 3.84\n",
      "Episode 63\tAverage Score: 6.47\n",
      "Episode 63\tAverage Score: 3.88\n",
      "Episode 64\tAverage Score: 7.09\n",
      "Episode 64\tAverage Score: 3.93\n",
      "Episode 65\tAverage Score: 7.99\n",
      "Episode 65\tAverage Score: 3.99\n",
      "Episode 66\tAverage Score: 7.32\n",
      "Episode 66\tAverage Score: 4.04\n",
      "Episode 67\tAverage Score: 6.70\n",
      "Episode 67\tAverage Score: 4.08\n"
     ]
    }
   ],
   "source": [
    "def ddpg(n_episodes=1000, max_t=400, print_every=1):\n",
    "    scores_deque = deque(maxlen=100)\n",
    "    scores = []\n",
    "    for i_episode in range(1, n_episodes+1):\n",
    "        env_info = env.reset(train_mode=True)[brain_name]\n",
    "        state = env_info.vector_observations\n",
    "        agent.reset()\n",
    "        score = np.zeros((20,))\n",
    "        #for t in range(max_t):\n",
    "        while True:\n",
    "            action = agent.act(state)\n",
    "            env_info = env.step(action)[brain_name]        # send the action to the environment\n",
    "            next_state = env_info.vector_observations   # get the next state\n",
    "            reward = env_info.rewards                   # get the reward\n",
    "            done = env_info.local_done \n",
    "            agent.step(state, action, reward, next_state, done)\n",
    "            state = next_state\n",
    "            score += np.array(reward)\n",
    "            if any(done):\n",
    "                break \n",
    "        scores_deque.append(np.mean(score))\n",
    "        scores.append(np.mean(score))\n",
    "        print('\\rEpisode {}\\tAverage Score: {:.2f}'.format(i_episode, scores[-1]))\n",
    "        torch.save(agent.actor_local.state_dict(), 'checkpoint_actor.pth')\n",
    "        torch.save(agent.critic_local.state_dict(), 'checkpoint_critic.pth')\n",
    "        if i_episode % print_every == 0:\n",
    "            print('\\rEpisode {}\\tAverage Score: {:.2f}'.format(i_episode, np.mean(scores_deque)))\n",
    "            if len(scores_deque) == 100 and np.mean(scores_deque) >= 30:\n",
    "                print('Done! Yay!')\n",
    "                break\n",
    "    return scores\n",
    "\n",
    "scores = ddpg()\n",
    "\n",
    "fig = plt.figure()\n",
    "ax = fig.add_subplot(111)\n",
    "plt.plot(np.arange(1, len(scores)+1), scores)\n",
    "plt.ylabel('Score')\n",
    "plt.xlabel('Episode #')\n",
    "plt.show()"
   ]
  },
  {
   "cell_type": "code",
   "execution_count": null,
   "metadata": {},
   "outputs": [],
   "source": []
  }
 ],
 "metadata": {
  "kernelspec": {
   "display_name": "Python 3",
   "language": "python",
   "name": "python3"
  },
  "language_info": {
   "codemirror_mode": {
    "name": "ipython",
    "version": 3
   },
   "file_extension": ".py",
   "mimetype": "text/x-python",
   "name": "python",
   "nbconvert_exporter": "python",
   "pygments_lexer": "ipython3",
   "version": "3.6.3"
  }
 },
 "nbformat": 4,
 "nbformat_minor": 2
}
